{
 "cells": [
  {
   "cell_type": "markdown",
   "metadata": {},
   "source": [
    "# Profiling Your Data With Pandas Profiling\n",
    "\n",
    "\n",
    "\n",
    "1. Load your data from a database or csv into a pandas dataframe\n",
    "2. Create the profile report using pandas_profiling\n",
    "3. Save your report as an `.html` file\n",
    "\n",
    "## Requirements\n",
    "\n",
    "1. Python. [Anaconda](https://www.anaconda.com/download/) is the easiest install. To keep life simple, **be sure to choose \"Just Me\"** when prompted by the installer.\n",
    "2. A few python packages: `pip install jupyter pandas sqlalchemy pandas_profiling pyodbc healthcareai`"
   ]
  },
  {
   "cell_type": "code",
   "execution_count": null,
   "metadata": {},
   "outputs": [],
   "source": [
    "import pandas as pd\n",
    "import urllib\n",
    "import sqlalchemy\n",
    "import pandas_profiling\n",
    "from healthcareai.common.database_connections import build_mssql_engine_using_trusted_connections\n",
    "\n",
    "engine = build_mssql_engine_using_trusted_connections(server='YOUR_DB_SERVER', database='YOUR_DATABASE')\n",
    "\n",
    "query = \"\"\"\n",
    "SELECT TOP 100 *\n",
    "FROM YOUR_TABLE\n",
    "\"\"\"\n",
    "\n",
    "df = pd.read_sql_query(query, engine)\n",
    "\n",
    "report = pandas_profiling.ProfileReport(df)\n",
    "report"
   ]
  },
  {
   "cell_type": "markdown",
   "metadata": {},
   "source": [
    "## Save Report to HTML\n",
    "\n",
    "**Always be PHI Aware!** These reports may contain PHI."
   ]
  },
  {
   "cell_type": "code",
   "execution_count": 2,
   "metadata": {
    "collapsed": true
   },
   "outputs": [],
   "source": [
    "report.to_file('my_profile_report.html')"
   ]
  }
 ],
 "metadata": {
  "kernelspec": {
   "display_name": "Python 3",
   "language": "python",
   "name": "python3"
  },
  "language_info": {
   "codemirror_mode": {
    "name": "ipython",
    "version": 3
   },
   "file_extension": ".py",
   "mimetype": "text/x-python",
   "name": "python",
   "nbconvert_exporter": "python",
   "pygments_lexer": "ipython3",
   "version": "3.6.1"
  }
 },
 "nbformat": 4,
 "nbformat_minor": 2
}
